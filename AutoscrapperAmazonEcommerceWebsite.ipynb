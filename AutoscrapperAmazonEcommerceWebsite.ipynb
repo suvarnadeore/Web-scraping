{
 "cells": [
  {
   "cell_type": "code",
   "execution_count": 2,
   "metadata": {},
   "outputs": [],
   "source": [
    "from autoscraper import AutoScraper"
   ]
  },
  {
   "cell_type": "code",
   "execution_count": 5,
   "metadata": {},
   "outputs": [],
   "source": [
    "amazon_url='https://www.amazon.in/s?i=aps&k=iphone'\n",
    "\n",
    "wanted_list=['New Apple iPhone 11 (128GB) - Black','₹58,400']"
   ]
  },
  {
   "cell_type": "code",
   "execution_count": 6,
   "metadata": {},
   "outputs": [
    {
     "name": "stdout",
     "output_type": "stream",
     "text": [
      "['New Apple iPhone 12 (128GB) - Blue', '₹82,400₹82,400\\n₹84,900₹84,900\\n\\nSave ₹2,500 (3%)', 'New Apple iPhone 12 Pro Max (128GB) - Pacific Blue', '₹1,25,900₹1,25,900\\n₹1,29,900₹1,29,900\\n\\nSave ₹4,000 (3%)', 'New Apple iPhone 11 (128GB) - Black', '₹58,400₹58,400\\n₹59,900₹59,900\\n\\nSave ₹1,500 (3%)', 'Apple iPhone 11 Pro Max (256GB) - Midnight Green', 'Limited time deal\\n\\n\\n\\n\\n₹93,900₹93,900\\n₹1,23,900₹1,23,900\\n\\nSave ₹30,000 (24%)', 'New Apple iPhone 12 Pro (128GB) - Pacific Blue', '₹1,15,900₹1,15,900\\n₹1,19,900₹1,19,900\\n\\nSave ₹4,000 (3%)', 'New Apple iPhone 12 Mini (64GB) - Blue', '₹66,900₹66,900\\n₹69,900₹69,900\\n\\nSave ₹3,000 (4%)', 'Apple iPhone 11 Pro (64GB) - Space Grey', 'Limited time deal\\n\\n\\n\\n\\n₹81,900₹81,900\\n₹99,900₹99,900\\n\\nSave ₹18,000 (18%)', '6S Space Grey 16GB Compatible with iPhone with 1 Year Warranty', '₹17,999₹17,999\\n₹29,999₹29,999\\n\\nSave ₹12,000 (40%)', '6S 16GB Silver Compatible with I Phone 6 with 1 Year Warranty', '₹18,999₹18,999\\n₹26,999₹26,999\\n\\nSave ₹8,000 (30%)', 'OnePlus Nord 5G (Blue Marble, 12GB RAM, 256GB Storage)', 'Limited time deal\\n\\n\\n\\n\\n₹29,999₹29,999', 'Oppo A52 (Twilight Black, 6GB RAM, 128GB Storage) with No Cost EMI/Additional Exchange Offers', 'Limited time deal\\n\\n\\n\\n\\n₹13,990₹13,990\\n₹19,990₹19,990\\n\\nSave ₹6,000 (30%)', '5s 16GB Gold Compatible with I Phone with 1 Year Warranty (Without Touch ID)', '₹11,999₹11,999\\n₹25,999₹25,999\\n\\nSave ₹14,000 (54%)', 'Mi 10i 5G (Midnight Black, 8GB RAM, 128GB Storage) - 108MP Quad Camera | Snapdragon 750G Processor | Upto 6 Months No Cost EMI', 'Limited time deal\\n\\n\\n\\n\\n₹23,999₹23,999\\n₹27,000₹27,000\\n\\nSave ₹3,001 (11%)', 'OPPO A31 (Fantasy White, 4GB RAM, 64GB Storage) with No Cost EMI/Additional Exchange Offers', 'Deal of the Day \\n\\n\\n\\n\\n₹9,990₹9,990\\n₹12,990₹12,990\\n\\nSave ₹3,000 (23%)', 'Nillkin Case for Apple iPhone 12 Pro Max (6.7\" Inch) Flex Pure Pro Magsafe Cover Case Liquid Silicon Magnetic Function Anti Finger Print with Inner Microfibre Blue Color', '₹2,999₹2,999\\n₹3,999₹3,999\\n\\nSave ₹1,000 (25%)', 'Nillkin Case for Apple iPhone 12 Mini (5.4\" Inch) Textured Series Nylon Fiber Tough & Durable PC + TPU Material Luxury Protect Black', '₹1,499₹1,499\\n₹2,999₹2,999\\n\\nSave ₹1,500 (50%)', 'Mi 10i 5G (Midnight Black, 8GB RAM, 128GB Storage) - 108MP Quad Camera | Snapdragon 750G Processor | Upto 6 Months No Cost...', 'Nillkin Case for Apple iPhone 12 Pro Max (6.7', 'Nillkin Case for Apple iPhone 12 Mini (5.4', '₹82,400', '₹84,900', '₹1,25,900', '₹1,29,900', '₹58,400', '₹59,900', '₹93,900', '₹1,23,900', '₹1,15,900', '₹1,19,900', '₹66,900', '₹69,900', '₹81,900', '₹99,900', '₹17,999', '₹29,999', '₹18,999', '₹26,999', '₹13,990', '₹19,990', '₹11,999', '₹25,999', '₹23,999', '₹27,000', '₹9,990', '₹12,990', '₹2,999', '₹3,999', '₹1,499']\n"
     ]
    }
   ],
   "source": [
    "#Initialization of Autoscraper object\n",
    "scraper=AutoScraper()\n",
    "result=scraper.build(amazon_url,wanted_list)\n",
    "print(result)"
   ]
  },
  {
   "cell_type": "code",
   "execution_count": 8,
   "metadata": {},
   "outputs": [
    {
     "data": {
      "text/plain": [
       "{'rule_jncm': ['New Apple iPhone 11 (128GB) - Black',\n",
       "  '₹58,400₹58,400\\n₹59,900₹59,900\\n\\nSave ₹1,500 (3%)',\n",
       "  'New Apple iPhone 12 Pro Max (128GB) - Pacific Blue',\n",
       "  '₹1,25,900₹1,25,900\\n₹1,29,900₹1,29,900\\n\\nSave ₹4,000 (3%)',\n",
       "  'New Apple iPhone 12 (128GB) - Blue',\n",
       "  '₹82,400₹82,400\\n₹84,900₹84,900\\n\\nSave ₹2,500 (3%)',\n",
       "  'New Apple iPhone 12 Mini (64GB) - Blue',\n",
       "  '₹66,900₹66,900\\n₹69,900₹69,900\\n\\nSave ₹3,000 (4%)',\n",
       "  'New Apple iPhone 12 Pro (128GB) - Pacific Blue',\n",
       "  '₹1,15,900₹1,15,900\\n₹1,19,900₹1,19,900\\n\\nSave ₹4,000 (3%)',\n",
       "  'Apple iPhone 11 Pro Max (256GB) - Midnight Green',\n",
       "  'Limited time deal\\n\\n\\n\\n\\n₹93,900₹93,900\\n₹1,23,900₹1,23,900\\n\\nSave ₹30,000 (24%)',\n",
       "  '6S Space Grey 16GB Compatible with iPhone with 1 Year Warranty',\n",
       "  '₹17,999₹17,999\\n₹29,999₹29,999\\n\\nSave ₹12,000 (40%)',\n",
       "  'Apple iPhone 11 Pro (256GB) - Silver',\n",
       "  'Limited time deal\\n\\n\\n\\n\\n₹86,900₹86,900\\n₹1,21,300₹1,21,300\\n\\nSave ₹34,400 (28%)',\n",
       "  'OnePlus Nord 5G (Blue Marble, 12GB RAM, 256GB Storage)',\n",
       "  'Limited time deal\\n\\n\\n\\n\\n₹29,999₹29,999',\n",
       "  '5s 16GB Gold Compatible with I Phone with 1 Year Warranty (Without Touch ID)',\n",
       "  '₹11,999₹11,999\\n₹25,999₹25,999\\n\\nSave ₹14,000 (54%)',\n",
       "  '6S 16GB Silver Compatible with I Phone 6 with 1 Year Warranty',\n",
       "  '₹18,999₹18,999\\n₹26,999₹26,999\\n\\nSave ₹8,000 (30%)',\n",
       "  'Oppo A52 (Twilight Black, 6GB RAM, 128GB Storage) with No Cost EMI/Additional Exchange Offers',\n",
       "  'Limited time deal\\n\\n\\n\\n\\n₹13,990₹13,990\\n₹19,990₹19,990\\n\\nSave ₹6,000 (30%)',\n",
       "  'Samsung Galaxy M31 (Ocean Blue, 6GB RAM, 128GB Storage)',\n",
       "  'Limited time deal\\n\\n\\n\\n\\n₹16,499₹16,499\\n₹19,999₹19,999\\n\\nSave ₹3,500 (18%)',\n",
       "  'Nillkin Case for Apple iPhone 12 Mini (5.4\" Inch) Super Frosted Shield Pro Magnetic Hard Back Soft Border (PC + TPU) Cover Raised Bezel Camera Protect with Logo Cut Blue',\n",
       "  '₹1,100₹1,100\\n₹1,499₹1,499\\n\\nSave ₹399 (27%)',\n",
       "  'Nillkin Case for Apple iPhone 12 Mini (5.4\" Inch) Medley Case Military Grade Finish (PC + TPU) Built in Stand (Removable) Raised Bezel for Camera Protect Blue',\n",
       "  '₹3,499₹3,499\\n₹3,999₹3,999\\n\\nSave ₹500 (13%)',\n",
       "  'Mi 10i 5G (Midnight Black, 8GB RAM, 128GB Storage) - 108MP Quad Camera | Snapdragon 750G Processor | Upto 6 Months No Cost EMI',\n",
       "  'Limited time deal\\n\\n\\n\\n\\n₹23,999₹23,999\\n₹27,000₹27,000\\n\\nSave ₹3,001 (11%)'],\n",
       " 'rule_wv7w': ['New Apple iPhone 11 (128GB) - Black',\n",
       "  'New Apple iPhone 12 Pro Max (128GB) - Pacific Blue',\n",
       "  'New Apple iPhone 12 (128GB) - Blue',\n",
       "  'New Apple iPhone 12 Mini (64GB) - Blue',\n",
       "  'New Apple iPhone 12 Pro (128GB) - Pacific Blue',\n",
       "  'Apple iPhone 11 Pro Max (256GB) - Midnight Green',\n",
       "  '6S Space Grey 16GB Compatible with iPhone with 1 Year Warranty',\n",
       "  'Apple iPhone 11 Pro (256GB) - Silver',\n",
       "  'OnePlus Nord 5G (Blue Marble, 12GB RAM, 256GB Storage)',\n",
       "  '5s 16GB Gold Compatible with I Phone with 1 Year Warranty (Without Touch ID)',\n",
       "  '6S 16GB Silver Compatible with I Phone 6 with 1 Year Warranty',\n",
       "  'Oppo A52 (Twilight Black, 6GB RAM, 128GB Storage) with No Cost EMI/Additional Exchange Offers',\n",
       "  'Samsung Galaxy M31 (Ocean Blue, 6GB RAM, 128GB Storage)',\n",
       "  'Nillkin Case for Apple iPhone 12 Mini (5.4',\n",
       "  'Nillkin Case for Apple iPhone 12 Mini (5.4',\n",
       "  'Mi 10i 5G (Midnight Black, 8GB RAM, 128GB Storage) - 108MP Quad Camera | Snapdragon 750G Processor | Upto 6 Months No Cost...'],\n",
       " 'rule_24i3': ['₹58,400',\n",
       "  '₹59,900',\n",
       "  '₹1,25,900',\n",
       "  '₹1,29,900',\n",
       "  '₹82,400',\n",
       "  '₹84,900',\n",
       "  '₹66,900',\n",
       "  '₹69,900',\n",
       "  '₹1,15,900',\n",
       "  '₹1,19,900',\n",
       "  '₹93,900',\n",
       "  '₹1,23,900',\n",
       "  '₹17,999',\n",
       "  '₹29,999',\n",
       "  '₹86,900',\n",
       "  '₹1,21,300',\n",
       "  '₹29,999',\n",
       "  '₹11,999',\n",
       "  '₹25,999',\n",
       "  '₹18,999',\n",
       "  '₹26,999',\n",
       "  '₹13,990',\n",
       "  '₹19,990',\n",
       "  '₹16,499',\n",
       "  '₹19,999',\n",
       "  '₹1,100',\n",
       "  '₹1,499',\n",
       "  '₹3,499',\n",
       "  '₹3,999',\n",
       "  '₹23,999',\n",
       "  '₹27,000'],\n",
       " 'rule_xd3d': ['₹58,400',\n",
       "  '₹59,900',\n",
       "  '₹1,25,900',\n",
       "  '₹1,29,900',\n",
       "  '₹82,400',\n",
       "  '₹84,900',\n",
       "  '₹66,900',\n",
       "  '₹69,900',\n",
       "  '₹1,15,900',\n",
       "  '₹1,19,900',\n",
       "  '₹93,900',\n",
       "  '₹1,23,900',\n",
       "  '₹17,999',\n",
       "  '₹29,999',\n",
       "  '₹86,900',\n",
       "  '₹1,21,300',\n",
       "  '₹29,999',\n",
       "  '₹11,999',\n",
       "  '₹25,999',\n",
       "  '₹18,999',\n",
       "  '₹26,999',\n",
       "  '₹13,990',\n",
       "  '₹19,990',\n",
       "  '₹16,499',\n",
       "  '₹19,999',\n",
       "  '₹1,100',\n",
       "  '₹1,499',\n",
       "  '₹3,499',\n",
       "  '₹3,999',\n",
       "  '₹23,999',\n",
       "  '₹27,000']}"
      ]
     },
     "execution_count": 8,
     "metadata": {},
     "output_type": "execute_result"
    }
   ],
   "source": [
    "scraper.get_result_similar(amazon_url,grouped=True)"
   ]
  },
  {
   "cell_type": "code",
   "execution_count": 11,
   "metadata": {},
   "outputs": [],
   "source": [
    "scraper.set_rule_aliases({'rule_jncm':'Title','rule_24i3':'Price'})\n",
    "scraper.keep_rules(['rule_jncm','rule_24i3'])\n",
    "scraper.save('amazon_search')"
   ]
  },
  {
   "cell_type": "code",
   "execution_count": 14,
   "metadata": {},
   "outputs": [
    {
     "data": {
      "text/plain": [
       "['₹6,799',\n",
       " '₹8,499',\n",
       " '₹21,999',\n",
       " '₹24,999',\n",
       " '₹8,799',\n",
       " '₹10,999',\n",
       " '₹10,999',\n",
       " '₹14,999',\n",
       " '₹12,999',\n",
       " '₹16,999',\n",
       " '₹10,499',\n",
       " '₹13,999',\n",
       " '₹14,999',\n",
       " '₹18,999',\n",
       " '₹10,999',\n",
       " '₹12,999',\n",
       " '₹39,999',\n",
       " '₹47,999',\n",
       " '₹7,699',\n",
       " '₹11,900',\n",
       " '₹10,990',\n",
       " '₹15,990',\n",
       " '₹13,999',\n",
       " '₹17,999',\n",
       " '₹5,999',\n",
       " '₹6,999',\n",
       " '₹9,999',\n",
       " '₹14,999',\n",
       " '₹6,299',\n",
       " '₹9,899',\n",
       " '₹16,499',\n",
       " '₹19,999']"
      ]
     },
     "execution_count": 14,
     "metadata": {},
     "output_type": "execute_result"
    }
   ],
   "source": [
    "result=scraper.get_result_similar('https://www.amazon.in/s?i=aps&k=mi%20phone', group_by_alias=True)\n",
    "result['Price']"
   ]
  },
  {
   "cell_type": "code",
   "execution_count": null,
   "metadata": {},
   "outputs": [],
   "source": [
    "\n"
   ]
  },
  {
   "cell_type": "code",
   "execution_count": null,
   "metadata": {},
   "outputs": [],
   "source": []
  },
  {
   "cell_type": "code",
   "execution_count": null,
   "metadata": {},
   "outputs": [],
   "source": []
  }
 ],
 "metadata": {
  "kernelspec": {
   "display_name": "Python 3",
   "language": "python",
   "name": "python3"
  },
  "language_info": {
   "codemirror_mode": {
    "name": "ipython",
    "version": 3
   },
   "file_extension": ".py",
   "mimetype": "text/x-python",
   "name": "python",
   "nbconvert_exporter": "python",
   "pygments_lexer": "ipython3",
   "version": "3.7.3"
  }
 },
 "nbformat": 4,
 "nbformat_minor": 4
}
