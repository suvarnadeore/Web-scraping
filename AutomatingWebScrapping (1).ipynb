{
 "cells": [
  {
   "cell_type": "code",
   "execution_count": null,
   "metadata": {},
   "outputs": [],
   "source": [
    "#Installing Autoscraper\n",
    "!pip install autoscraper"
   ]
  },
  {
   "cell_type": "code",
   "execution_count": 6,
   "metadata": {},
   "outputs": [],
   "source": [
    "from autoscraper import AutoScraper"
   ]
  },
  {
   "cell_type": "code",
   "execution_count": 7,
   "metadata": {},
   "outputs": [
    {
     "name": "stdout",
     "output_type": "stream",
     "text": [
      "['9', '8', '1', '85', '2', '6', '359', '26', '5', '7', '49', '37', '12', '51', '16', '14', '4', '10', '54', '3', 'Autoscrapper', 'Types-Of-Trnasformation', 'Pywebheroku', 'Car-Price-Prediction', 'Custom-object-Detection', 'Gradio', 'EVALML', 'Machine-Learning-in-90-days', 'Weather-Chatbot-Using-Luis', 'Shapash-', 'Car-PricePrediction', 'BMI-Calculator', 'PyWebIO', 'Audio-Classification', 'Malaria-Detection', 'Deep-Learning-Car-Brand', 'WaferFaultDetection', 'Phising-Classifier', 'texthero', 'Kubernet-Dockers', 'Dockers', 'Google-Dialogflow-chatbots', 'Google-Cloud-Platform-Deployment', 'AzureDeployment', 'Test', 'Image-Webscrapper', 'AQI-Deployment', 'NLP-Deployment-Heroku', 'Heroku-Demo', 'Deployment-Heroku']\n"
     ]
    }
   ],
   "source": [
    "url='https://github.com/krishnaik06?tab=repositories'\n",
    "\n",
    "wanted_list=['85','Car-Price-Prediction',]\n",
    "\n",
    "scraper=AutoScraper()\n",
    "result = scraper.build(url, wanted_list)\n",
    "print(result)\n"
   ]
  },
  {
   "cell_type": "code",
   "execution_count": 8,
   "metadata": {},
   "outputs": [
    {
     "data": {
      "text/plain": [
       "{'rule_nr3g': ['9',\n",
       "  '8',\n",
       "  '1',\n",
       "  '85',\n",
       "  '1',\n",
       "  '2',\n",
       "  '6',\n",
       "  '359',\n",
       "  '26',\n",
       "  '6',\n",
       "  '8',\n",
       "  '5',\n",
       "  '7',\n",
       "  '6',\n",
       "  '49',\n",
       "  '37',\n",
       "  '12',\n",
       "  '5',\n",
       "  '7',\n",
       "  '6',\n",
       "  '51',\n",
       "  '16',\n",
       "  '14',\n",
       "  '6',\n",
       "  '2',\n",
       "  '12',\n",
       "  '4',\n",
       "  '10',\n",
       "  '54',\n",
       "  '3'],\n",
       " 'rule_mhn1': ['Autoscrapper',\n",
       "  'Types-Of-Trnasformation',\n",
       "  'Pywebheroku',\n",
       "  'Car-Price-Prediction',\n",
       "  'Custom-object-Detection',\n",
       "  'Gradio',\n",
       "  'EVALML',\n",
       "  'Machine-Learning-in-90-days',\n",
       "  'Weather-Chatbot-Using-Luis',\n",
       "  'Shapash-',\n",
       "  'Car-PricePrediction',\n",
       "  'BMI-Calculator',\n",
       "  'PyWebIO',\n",
       "  'Audio-Classification',\n",
       "  'Malaria-Detection',\n",
       "  'Deep-Learning-Car-Brand',\n",
       "  'WaferFaultDetection',\n",
       "  'Phising-Classifier',\n",
       "  'texthero',\n",
       "  'Kubernet-Dockers',\n",
       "  'Dockers',\n",
       "  'Google-Dialogflow-chatbots',\n",
       "  'Google-Cloud-Platform-Deployment',\n",
       "  'AzureDeployment',\n",
       "  'Test',\n",
       "  'Image-Webscrapper',\n",
       "  'AQI-Deployment',\n",
       "  'NLP-Deployment-Heroku',\n",
       "  'Heroku-Demo',\n",
       "  'Deployment-Heroku']}"
      ]
     },
     "execution_count": 8,
     "metadata": {},
     "output_type": "execute_result"
    }
   ],
   "source": [
    "scraper.get_result_similar('https://github.com/krishnaik06?tab=repositories',grouped=True)"
   ]
  },
  {
   "cell_type": "code",
   "execution_count": 12,
   "metadata": {},
   "outputs": [],
   "source": [
    "scraper.set_rule_aliases({'rule_nr3g':'Stars','rule_mhn1':'Title'})\n",
    "scraper.keep_rules(['rule_nr3g','rule_mhn1'])\n",
    "scraper.save('github-repository-search')"
   ]
  },
  {
   "cell_type": "code",
   "execution_count": 13,
   "metadata": {},
   "outputs": [],
   "source": [
    "scraper.load('github-repository-search')"
   ]
  },
  {
   "cell_type": "code",
   "execution_count": 15,
   "metadata": {},
   "outputs": [],
   "source": [
    "result=scraper.get_result_similar('https://github.com/iNeuronai?tab=repositories', group_by_alias=True)"
   ]
  },
  {
   "cell_type": "code",
   "execution_count": 16,
   "metadata": {},
   "outputs": [
    {
     "data": {
      "text/plain": [
       "['chabot_video_codes',\n",
       " 'MachineLearningModelToPivotal',\n",
       " 'MachineLearningModelToAzure',\n",
       " 'MachineLearningModelToHeroku',\n",
       " 'MachineLearningModelToGCP',\n",
       " 'flaskWeatherApp',\n",
       " 'MachineLearningModelToAWS',\n",
       " 'same-resume-year-wise',\n",
       " 'interview-question-data-science-',\n",
       " 'sudhtest87435353',\n",
       " '-bigsparkrepo',\n",
       " 'deep-learning-drizzle\\n\\n\\n          Forked from kmario23/deep-learning-drizzle',\n",
       " 'Ineuron-Arhcitecture',\n",
       " 'zomatoEDA',\n",
       " 'A',\n",
       " 'assignmentrepo',\n",
       " 'allMLProjects',\n",
       " 'TimeSeries',\n",
       " 'assignemnt-',\n",
       " 'code',\n",
       " 'xyz',\n",
       " 'waffer-project',\n",
       " 'DeepLearningDocs',\n",
       " 'webscrappper_text',\n",
       " 'DecisionTrees',\n",
       " 'PrincipalComponentAnalysis',\n",
       " 'Working-with-MongoDB',\n",
       " 'imageScrapper\\n\\n\\n          Forked from viratsagar/imageScrapper',\n",
       " 'Chatbots_using_Dialogflow',\n",
       " 'AzureWeatherBot']"
      ]
     },
     "execution_count": 16,
     "metadata": {},
     "output_type": "execute_result"
    }
   ],
   "source": [
    "result['Title']"
   ]
  },
  {
   "cell_type": "code",
   "execution_count": null,
   "metadata": {},
   "outputs": [],
   "source": []
  },
  {
   "cell_type": "code",
   "execution_count": null,
   "metadata": {},
   "outputs": [],
   "source": []
  }
 ],
 "metadata": {
  "kernelspec": {
   "display_name": "Python 3",
   "language": "python",
   "name": "python3"
  },
  "language_info": {
   "codemirror_mode": {
    "name": "ipython",
    "version": 3
   },
   "file_extension": ".py",
   "mimetype": "text/x-python",
   "name": "python",
   "nbconvert_exporter": "python",
   "pygments_lexer": "ipython3",
   "version": "3.7.3"
  }
 },
 "nbformat": 4,
 "nbformat_minor": 4
}
